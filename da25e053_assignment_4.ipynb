{
  "nbformat": 4,
  "nbformat_minor": 0,
  "metadata": {
    "colab": {
      "provenance": []
    },
    "kernelspec": {
      "name": "python3",
      "display_name": "Python 3"
    },
    "language_info": {
      "name": "python"
    }
  },
  "cells": [
    {
      "cell_type": "markdown",
      "source": [
        "# DA5401 A3: Notebook for Addressing Class Imbalance\n",
        "\n",
        "Name : Pratyay Piyush Mishra\n",
        "\n",
        "Roll : DA25E053"
      ],
      "metadata": {
        "id": "hWuLZpHS7ual"
      }
    },
    {
      "cell_type": "code",
      "execution_count": 56,
      "metadata": {
        "id": "RlrPJwGAiT2g"
      },
      "outputs": [],
      "source": [
        "import pandas as pd\n",
        "import numpy as np\n",
        "from sklearn.model_selection import train_test_split\n",
        "from sklearn.preprocessing import StandardScaler\n",
        "from sklearn.cluster import MiniBatchKMeans"
      ]
    },
    {
      "cell_type": "code",
      "source": [
        "df = pd.read_csv('creditcard.csv')\n",
        "print(\"Shape of the dataset:\", df.shape)"
      ],
      "metadata": {
        "colab": {
          "base_uri": "https://localhost:8080/"
        },
        "id": "FJ9Kqu3EiitK",
        "outputId": "59d08b0a-d69d-4af4-e093-75e4d81b694f"
      },
      "execution_count": 42,
      "outputs": [
        {
          "output_type": "stream",
          "name": "stdout",
          "text": [
            "Shape of the dataset: (284807, 31)\n"
          ]
        }
      ]
    },
    {
      "cell_type": "markdown",
      "source": [
        "## Class imbalance\n",
        "\n",
        "Number of data points for fraud class is a lot lower in the dataset"
      ],
      "metadata": {
        "id": "icEsbsNQ3DIB"
      }
    },
    {
      "cell_type": "code",
      "source": [
        "class_distribution = df['Class'].value_counts()\n",
        "print(\"Class distribution:\\n\", class_distribution)"
      ],
      "metadata": {
        "colab": {
          "base_uri": "https://localhost:8080/"
        },
        "id": "TNWct2dKjeq2",
        "outputId": "e5576dd2-1d15-452b-b208-87190eedd051"
      },
      "execution_count": 43,
      "outputs": [
        {
          "output_type": "stream",
          "name": "stdout",
          "text": [
            "Class distribution:\n",
            " Class\n",
            "0    284315\n",
            "1       492\n",
            "Name: count, dtype: int64\n"
          ]
        }
      ]
    },
    {
      "cell_type": "code",
      "source": [
        "scaler = StandardScaler()\n",
        "df['scaled_amount'] = scaler.fit_transform(df['Amount'].values.reshape(-1, 1))\n",
        "df['scaled_time'] = scaler.fit_transform(df['Time'].values.reshape(-1, 1))\n",
        "df.drop(['Time', 'Amount'], axis=1, inplace=True)"
      ],
      "metadata": {
        "id": "zy5XvoqJr8yd"
      },
      "execution_count": 44,
      "outputs": []
    },
    {
      "cell_type": "code",
      "source": [
        "X = df.drop('Class', axis=1)\n",
        "y = df['Class']\n",
        "\n",
        "X_train, X_test, y_train, y_test = train_test_split(X, y, test_size=0.2, random_state=42, stratify=y)"
      ],
      "metadata": {
        "id": "83T_TDjPjlxW"
      },
      "execution_count": 45,
      "outputs": []
    },
    {
      "cell_type": "markdown",
      "source": [
        "## Logistic regression on original dataset - Baseline model"
      ],
      "metadata": {
        "id": "TCWSmr9u3ZR1"
      }
    },
    {
      "cell_type": "code",
      "source": [
        "from sklearn.linear_model import LogisticRegression\n",
        "from sklearn.metrics import classification_report, confusion_matrix, precision_recall_fscore_support"
      ],
      "metadata": {
        "id": "j4r2sA8Ckl37"
      },
      "execution_count": 46,
      "outputs": []
    },
    {
      "cell_type": "code",
      "source": [
        "print(\"Training set shape:\", X_train.shape)\n",
        "print(\"Test set shape:\", X_test.shape)\n",
        "print(\"\\nFraudulent transactions in training set:\", y_train.sum())\n",
        "print(\"Fraudulent transactions in test set:\", y_test.sum())\n",
        "\n",
        "# Train the Logistic Regression classifier (Model 1)\n",
        "print(\"\\n--- Training Baseline Model (Model 1) ---\")\n",
        "baseline_model = LogisticRegression(random_state=42)\n",
        "baseline_model.fit(X_train, y_train)\n",
        "\n",
        "# Evaluate the model's performance on the imbalanced test set\n",
        "y_pred_baseline = baseline_model.predict(X_test)\n",
        "print(\"\\nClassification Report for Baseline Model:\")\n",
        "print(classification_report(y_test, y_pred_baseline, target_names=['Non-Fraud', 'Fraud']))"
      ],
      "metadata": {
        "colab": {
          "base_uri": "https://localhost:8080/"
        },
        "id": "Whm0wpTskeBn",
        "outputId": "11078a67-17df-4626-afe6-c096a5cca5a9"
      },
      "execution_count": 47,
      "outputs": [
        {
          "output_type": "stream",
          "name": "stdout",
          "text": [
            "Training set shape: (227845, 30)\n",
            "Test set shape: (56962, 30)\n",
            "\n",
            "Fraudulent transactions in training set: 394\n",
            "Fraudulent transactions in test set: 98\n",
            "\n",
            "--- Training Baseline Model (Model 1) ---\n",
            "\n",
            "Classification Report for Baseline Model:\n",
            "              precision    recall  f1-score   support\n",
            "\n",
            "   Non-Fraud       1.00      1.00      1.00     56864\n",
            "       Fraud       0.83      0.64      0.72        98\n",
            "\n",
            "    accuracy                           1.00     56962\n",
            "   macro avg       0.91      0.82      0.86     56962\n",
            "weighted avg       1.00      1.00      1.00     56962\n",
            "\n"
          ]
        }
      ]
    },
    {
      "cell_type": "markdown",
      "metadata": {
        "id": "8e521386"
      },
      "source": [
        "### Model Evaluation and Choice of Metrics\n",
        "\n",
        "In this fraud detection scenario, failing to detect a fraudulent transaction (a false negative) is typically much more costly than incorrectly flagging a legitimate transaction as fraudulent (a false positive). Therefore, we are particularly interested in how well the model performs on the minority class (fraudulent transactions). Precision, recall, and F1-score for the 'Fraud' class directly address this by focusing on the model's performance on the instances that matter most from a business perspective. A model with high recall, even if it has slightly lower precision, might be preferred in a fraud detection system to minimize financial losses. The F1-score helps in finding a balance between these two competing objectives.\n",
        "\n",
        "By examining these minority class metrics, we can gain a much clearer understanding of the model's effectiveness in identifying fraudulent activities, which is the primary goal of this problem."
      ]
    },
    {
      "cell_type": "markdown",
      "metadata": {
        "id": "12a559c1"
      },
      "source": [
        "### GMM-Based Synthetic Sampling vs. SMOTE\n",
        "\n",
        "Both GMM-based synthetic sampling and SMOTE (Synthetic Minority Over-sampling Technique) are techniques used to address class imbalance in datasets by generating synthetic samples for the minority class. However, they differ fundamentally in how they generate these samples.\n",
        "\n",
        "**SMOTE:**\n",
        "\n",
        "SMOTE works by selecting a minority class instance and then finding its k-nearest neighbors. It then generates synthetic samples along the line segments connecting the minority instance to its neighbors. This approach is relatively simple and effective in many cases. However, SMOTE has limitations:\n",
        "\n",
        "*   It assumes that the minority class instances lie on linear manifolds, which may not always be true.\n",
        "*   It can generate synthetic samples that are close to the majority class instances, potentially leading to overlapping and noise.\n",
        "*   It struggles to capture the underlying data distribution when the minority class has multiple sub-groups or complex shapes in the feature space.\n",
        "\n",
        "**GMM-Based Synthetic Sampling:**\n",
        "\n",
        "GMM-based synthetic sampling, on the other hand, uses a Gaussian Mixture Model (GMM) to model the distribution of the minority class. A GMM assumes that the data is generated from a mixture of several Gaussian distributions. By fitting a GMM to the minority class data, the method can learn the underlying structure and density of the minority class.\n",
        "\n",
        "**Why GMM is Theoretically Better:**\n",
        "\n",
        "GMM is theoretically better at capturing the underlying data distribution, especially when the minority class has multiple sub-groups or complex shapes in the feature space, for the following reasons:\n",
        "\n",
        "*   **Modeling Complex Distributions:** GMM can model complex, multi-modal distributions by combining multiple Gaussian components. This allows it to capture the nuances of the minority class when it consists of distinct sub-groups.\n",
        "*   **Density Estimation:** GMM provides a probabilistic model of the data density. This allows for generating synthetic samples that are more representative of the minority class distribution, including areas of lower density.\n",
        "*   **Flexibility:** GMM is a flexible model that can adapt to various shapes and structures in the data, unlike SMOTE's linear assumption.\n",
        "\n",
        "In essence, while SMOTE generates synthetic samples based on local linear interpolations, GMM-based synthetic sampling learns a more global and probabilistic representation of the minority class distribution, enabling it to generate more realistic and diverse synthetic samples, particularly in complex scenarios."
      ]
    },
    {
      "cell_type": "markdown",
      "source": [
        "# GMM Oversampling dataset"
      ],
      "metadata": {
        "id": "cHKwVsyZ39N1"
      }
    },
    {
      "cell_type": "markdown",
      "source": [
        "We fit a GMM to the minority class datapoints in our dataset. We determine the optimal number of components (k) for the GMM using Akaike Information Criterion (AIC) and Bayesian Information Criterion (BIC), and decide to use k = 3"
      ],
      "metadata": {
        "id": "2bn17vAv6K1s"
      }
    },
    {
      "cell_type": "code",
      "source": [
        "from sklearn.mixture import GaussianMixture\n",
        "from matplotlib import pyplot as plt\n",
        "# Isolate minority class data from the training set\n",
        "X_train_minority = X_train[y_train == 1]\n",
        "\n",
        "# Determine the optimal number of components (k) for GMM\n",
        "n_components = np.arange(1, 21)\n",
        "aic = []\n",
        "bic = []\n",
        "\n",
        "for n in n_components:\n",
        "    gmm = GaussianMixture(n_components=n, random_state=42)\n",
        "    gmm.fit(X_train_minority)\n",
        "    aic.append(gmm.aic(X_train_minority))\n",
        "    bic.append(gmm.bic(X_train_minority))\n",
        "\n",
        "plt.figure(figsize=(12, 6))\n",
        "plt.plot(n_components, aic, label='AIC')\n",
        "plt.plot(n_components, bic, label='BIC')\n",
        "plt.title('GMM AIC and BIC for Optimal Number of Components')\n",
        "plt.xlabel('Number of components (k)')\n",
        "plt.ylabel('Information Criterion Score (Lower is Better)')\n",
        "plt.xticks(n_components)\n",
        "plt.legend(shadow=True)\n",
        "plt.show()"
      ],
      "metadata": {
        "colab": {
          "base_uri": "https://localhost:8080/",
          "height": 555
        },
        "id": "_XoCQHZZlgP3",
        "outputId": "77270725-3b6d-425b-fa35-351c739688e8"
      },
      "execution_count": 48,
      "outputs": [
        {
          "output_type": "display_data",
          "data": {
            "text/plain": [
              "<Figure size 1200x600 with 1 Axes>"
            ],
            "image/png": "[encoded data removed]"
          },
          "metadata": {}
        }
      ]
    },
    {
      "cell_type": "code",
      "source": [
        "# Find the optimal number of components based on AIC and BIC\n",
        "optimal_n_aic = n_components[np.argmin(aic)]\n",
        "optimal_n_bic = n_components[np.argmin(bic)]\n",
        "\n",
        "print(f\"Optimal number of components based on AIC: {optimal_n_aic}\")\n",
        "print(f\"Optimal number of components based on BIC: {optimal_n_bic}\")\n",
        "\n",
        "# Fit GMM with the chosen optimal number of components (you can choose either AIC or BIC)\n",
        "# Let's use the optimal number of components based on BIC for now\n",
        "optimal_n = optimal_n_bic\n",
        "gmm = GaussianMixture(n_components=optimal_n, random_state=42)\n",
        "gmm.fit(X_train_minority)\n",
        "\n",
        "print(f\"\\nGaussian Mixture Model fitted with {optimal_n} components.\")"
      ],
      "metadata": {
        "colab": {
          "base_uri": "https://localhost:8080/"
        },
        "id": "9W3PtTXdpQjC",
        "outputId": "a1ee70ed-8972-431e-d551-80c677de020b"
      },
      "execution_count": 49,
      "outputs": [
        {
          "output_type": "stream",
          "name": "stdout",
          "text": [
            "Optimal number of components based on AIC: 19\n",
            "Optimal number of components based on BIC: 3\n",
            "\n",
            "Gaussian Mixture Model fitted with 3 components.\n"
          ]
        }
      ]
    },
    {
      "cell_type": "markdown",
      "metadata": {
        "id": "bd13167c"
      },
      "source": [
        "### Determining Optimal GMM Components (k)\n",
        "\n",
        "To find the best number of components (k) for the GMM on minority class data, we used AIC (Akaike Information Criterion) and BIC (Bayesian Information Criterion).\n",
        "\n",
        "*   **AIC & BIC:** These metrics balance model fit and complexity. Lower scores are better. BIC penalizes complexity more.\n",
        "\n",
        "**Process:**\n",
        "\n",
        "1.  Fitted GMMs with k from 1 to 20 on minority data.\n",
        "2.  Calculated AIC and BIC for each k.\n",
        "3.  Plotted scores vs. k.\n",
        "\n",
        "We chose k=3 based on the BIC plot, which showed a clear minimum, favoring a simpler, more reliable model than AIC."
      ]
    },
    {
      "cell_type": "code",
      "source": [
        "n_majority = y_train.value_counts()[0]\n",
        "n_minority = y_train.value_counts()[1]\n",
        "n_samples_to_generate = n_majority - n_minority\n",
        "\n",
        "print(f\"Original Majority Count: {n_majority}\")\n",
        "print(f\"Original Minority Count: {n_minority}\")\n",
        "print(f\"Number of synthetic samples to generate: {n_samples_to_generate}\")\n",
        "\n",
        "X_synthetic, y_synthetic_labels = gmm.sample(n_samples_to_generate)\n",
        "y_synthetic = pd.Series(np.ones(n_samples_to_generate, dtype=int))\n",
        "\n",
        "# Convert synthetic data to DataFrame with correct column names\n",
        "X_synthetic_df = pd.DataFrame(X_synthetic, columns=X_train.columns)\n",
        "\n",
        "# Combine with original training data to create the GMM-balanced dataset\n",
        "X_train_gmm = pd.concat([X_train, X_synthetic_df], ignore_index=True)\n",
        "y_train_gmm = pd.concat([y_train, y_synthetic], ignore_index=True)\n",
        "\n",
        "# Check the new class distribution\n",
        "print(\"\\nNew class distribution after GMM Oversampling:\")\n",
        "print(y_train_gmm.value_counts())"
      ],
      "metadata": {
        "colab": {
          "base_uri": "https://localhost:8080/"
        },
        "id": "y0UlenQoskPd",
        "outputId": "637ba2fe-4615-4f84-f400-ef8704125843"
      },
      "execution_count": 54,
      "outputs": [
        {
          "output_type": "stream",
          "name": "stdout",
          "text": [
            "Original Majority Count: 227451\n",
            "Original Minority Count: 394\n",
            "Number of synthetic samples to generate: 227057\n",
            "\n",
            "New class distribution after GMM Oversampling:\n",
            "0    227451\n",
            "1    227451\n",
            "Name: count, dtype: int64\n"
          ]
        }
      ]
    },
    {
      "cell_type": "markdown",
      "source": [
        "## CBU + GMM Oversampling dataset"
      ],
      "metadata": {
        "id": "xWgl1NXs4gjS"
      }
    },
    {
      "cell_type": "markdown",
      "source": [
        "Here, we first create clusters for majority class using KMeans clustering, and use CBU to undersample from those clusters, reducing majority class datapoints. Then we use GMM to add synthetic points for minority class and make samples for both classes equal in number"
      ],
      "metadata": {
        "id": "ol50nHIW5WSn"
      }
    },
    {
      "cell_type": "code",
      "source": [
        "from imblearn.under_sampling import ClusterCentroids\n",
        "\n",
        "# Instantiate ClusterCentroids with a ratio of 3:1 for majority to minority class\n",
        "cc = ClusterCentroids(sampling_strategy={0: n_minority * 3}, random_state=42,estimator = MiniBatchKMeans())\n",
        "\n",
        "# Undersample the majority class\n",
        "X_train_cbu, y_train_cbu = cc.fit_resample(X_train, y_train)\n",
        "\n",
        "print(\"New class distribution after ClusterCentroids Undersampling:\")\n",
        "print(y_train_cbu.value_counts())"
      ],
      "metadata": {
        "colab": {
          "base_uri": "https://localhost:8080/"
        },
        "id": "mbZAKDuKtWVb",
        "outputId": "935453d2-0e1c-4bdd-b314-c41a13b13117"
      },
      "execution_count": 58,
      "outputs": [
        {
          "output_type": "stream",
          "name": "stdout",
          "text": [
            "New class distribution after ClusterCentroids Undersampling:\n",
            "Class\n",
            "0    1182\n",
            "1     394\n",
            "Name: count, dtype: int64\n"
          ]
        }
      ]
    },
    {
      "cell_type": "code",
      "source": [
        "n_extra_cbu = y_train_cbu.value_counts()[0] - y_train_cbu.value_counts()[1]\n",
        "X_synthetic_minority, _ = gmm.sample(n_extra_cbu)\n",
        "y_synthetic_class = np.ones(n_extra_cbu, dtype=int)\n",
        "X_synthetic_minority_df = pd.DataFrame(X_synthetic_minority, columns=X_train.columns)\n",
        "y_synthetic_minority_s = pd.Series(y_synthetic_class)\n",
        "\n",
        "X_train_cbu = pd.concat([X_train_cbu, X_synthetic_minority_df], ignore_index=True)\n",
        "y_train_cbu = pd.concat([y_train_cbu, y_synthetic_minority_s], ignore_index=True)\n",
        "\n",
        "print(y_train_cbu.value_counts())"
      ],
      "metadata": {
        "colab": {
          "base_uri": "https://localhost:8080/"
        },
        "id": "cw4bIb3qxcx7",
        "outputId": "b3eedf10-bd09-467b-d96d-fe12e7f8e880"
      },
      "execution_count": 61,
      "outputs": [
        {
          "output_type": "stream",
          "name": "stdout",
          "text": [
            "0    1182\n",
            "1    1182\n",
            "Name: count, dtype: int64\n"
          ]
        }
      ]
    },
    {
      "cell_type": "markdown",
      "source": [
        "## Training logistic regression models on both synthetic datasets\n",
        "\n",
        "We now train logistic regression on both GMM based oversampling dataset and the CBU+GMM dataset, and compare which model gives us the best recall, precision and f1-score"
      ],
      "metadata": {
        "id": "WDe0TihG6tNq"
      }
    },
    {
      "cell_type": "code",
      "source": [
        "# Model 2: Trained on GMM-Oversampled data\n",
        "model_gmm = LogisticRegression(solver='liblinear', random_state=42)\n",
        "model_gmm.fit(X_train_gmm, y_train_gmm)\n",
        "y_pred_gmm = model_gmm.predict(X_test)\n",
        "\n",
        "print(\"--- GMM-Oversampled Model Evaluation ---\")\n",
        "print(\"\\nClassification Report:\")\n",
        "print(classification_report(y_test, y_pred_gmm, target_names=['Non-Fraud (0)', 'Fraud (1)']))\n",
        "\n",
        "# Model 3: Trained on Hybrid (CBU + GMM) data\n",
        "model_hybrid = LogisticRegression(solver='liblinear', random_state=42)\n",
        "model_hybrid.fit(X_train_cbu, y_train_cbu)\n",
        "y_pred_hybrid = model_hybrid.predict(X_test)\n",
        "\n",
        "print(\"\\n--- Hybrid (CBU + GMM) Model Evaluation ---\")\n",
        "print(\"\\nClassification Report:\")\n",
        "print(classification_report(y_test, y_pred_hybrid, target_names=['Non-Fraud (0)', 'Fraud (1)']))"
      ],
      "metadata": {
        "colab": {
          "base_uri": "https://localhost:8080/"
        },
        "id": "XKxSCJotyjWm",
        "outputId": "631f3ced-7617-4d43-d9c0-f4261b8e876c"
      },
      "execution_count": 62,
      "outputs": [
        {
          "output_type": "stream",
          "name": "stdout",
          "text": [
            "--- GMM-Oversampled Model Evaluation ---\n",
            "\n",
            "Classification Report:\n",
            "               precision    recall  f1-score   support\n",
            "\n",
            "Non-Fraud (0)       1.00      0.98      0.99     56864\n",
            "    Fraud (1)       0.08      0.91      0.15        98\n",
            "\n",
            "     accuracy                           0.98     56962\n",
            "    macro avg       0.54      0.95      0.57     56962\n",
            " weighted avg       1.00      0.98      0.99     56962\n",
            "\n",
            "\n",
            "--- Hybrid (CBU + GMM) Model Evaluation ---\n",
            "\n",
            "Classification Report:\n",
            "               precision    recall  f1-score   support\n",
            "\n",
            "Non-Fraud (0)       1.00      0.98      0.99     56864\n",
            "    Fraud (1)       0.06      0.89      0.11        98\n",
            "\n",
            "     accuracy                           0.98     56962\n",
            "    macro avg       0.53      0.93      0.55     56962\n",
            " weighted avg       1.00      0.98      0.99     56962\n",
            "\n"
          ]
        }
      ]
    },
    {
      "cell_type": "code",
      "metadata": {
        "colab": {
          "base_uri": "https://localhost:8080/",
          "height": 161
        },
        "id": "25a8c441",
        "outputId": "8f56f9cf-b4da-4bcd-c317-d4c05b69aaca"
      },
      "source": [
        "# Organize metrics for plotting\n",
        "performance_comparison = pd.concat([fraud_baseline_metrics, fraud_gmm_metrics, fraud_hybrid_metrics], ignore_index=True)\n",
        "performance_comparison['model'] = ['Baseline', 'GMM-Oversampled', 'Hybrid']\n",
        "performance_comparison = performance_comparison[['model', 'precision', 'recall', 'f1-score']]\n",
        "\n",
        "print(\"Performance metrics for the 'Fraud' class:\")\n",
        "display(performance_comparison)"
      ],
      "execution_count": 67,
      "outputs": [
        {
          "output_type": "stream",
          "name": "stdout",
          "text": [
            "Performance metrics for the 'Fraud' class:\n"
          ]
        },
        {
          "output_type": "display_data",
          "data": {
            "text/plain": [
              "             model  precision  recall  f1-score\n",
              "0         Baseline       0.83    0.64      0.72\n",
              "1  GMM-Oversampled       0.08    0.91      0.15\n",
              "2           Hybrid       0.06    0.89      0.11"
            ],
            "text/html": [
              "\n",
              "  <div id=\"df-75aebb83-2588-4e01-be73-07b2427dc1af\" class=\"colab-df-container\">\n",
              "    <div>\n",
              "<style scoped>\n",
              "    .dataframe tbody tr th:only-of-type {\n",
              "        vertical-align: middle;\n",
              "    }\n",
              "\n",
              "    .dataframe tbody tr th {\n",
              "        vertical-align: top;\n",
              "    }\n",
              "\n",
              "    .dataframe thead th {\n",
              "        text-align: right;\n",
              "    }\n",
              "</style>\n",
              "<table border=\"1\" class=\"dataframe\">\n",
              "  <thead>\n",
              "    <tr style=\"text-align: right;\">\n",
              "      <th></th>\n",
              "      <th>model</th>\n",
              "      <th>precision</th>\n",
              "      <th>recall</th>\n",
              "      <th>f1-score</th>\n",
              "    </tr>\n",
              "  </thead>\n",
              "  <tbody>\n",
              "    <tr>\n",
              "      <th>0</th>\n",
              "      <td>Baseline</td>\n",
              "      <td>0.83</td>\n",
              "      <td>0.64</td>\n",
              "      <td>0.72</td>\n",
              "    </tr>\n",
              "    <tr>\n",
              "      <th>1</th>\n",
              "      <td>GMM-Oversampled</td>\n",
              "      <td>0.08</td>\n",
              "      <td>0.91</td>\n",
              "      <td>0.15</td>\n",
              "    </tr>\n",
              "    <tr>\n",
              "      <th>2</th>\n",
              "      <td>Hybrid</td>\n",
              "      <td>0.06</td>\n",
              "      <td>0.89</td>\n",
              "      <td>0.11</td>\n",
              "    </tr>\n",
              "  </tbody>\n",
              "</table>\n",
              "</div>\n",
              "    <div class=\"colab-df-buttons\">\n",
              "\n",
              "  <div class=\"colab-df-container\">\n",
              "    <button class=\"colab-df-convert\" onclick=\"convertToInteractive('df-75aebb83-2588-4e01-be73-07b2427dc1af')\"\n",
              "            title=\"Convert this dataframe to an interactive table.\"\n",
              "            style=\"display:none;\">\n",
              "\n",
              "  <svg xmlns=\"http://www.w3.org/2000/svg\" height=\"24px\" viewBox=\"0 -960 960 960\">\n",
              "    <path d=\"M120-120v-720h720v720H120Zm60-500h600v-160H180v160Zm220 220h160v-160H400v160Zm0 220h160v-160H400v160ZM180-400h160v-160H180v160Zm440 0h160v-160H620v160ZM180-180h160v-160H180v160Zm440 0h160v-160H620v160Z\"/>\n",
              "  </svg>\n",
              "    </button>\n",
              "\n",
              "  <style>\n",
              "    .colab-df-container {\n",
              "      display:flex;\n",
              "      gap: 12px;\n",
              "    }\n",
              "\n",
              "    .colab-df-convert {\n",
              "      background-color: #E8F0FE;\n",
              "      border: none;\n",
              "      border-radius: 50%;\n",
              "      cursor: pointer;\n",
              "      display: none;\n",
              "      fill: #1967D2;\n",
              "      height: 32px;\n",
              "      padding: 0 0 0 0;\n",
              "      width: 32px;\n",
              "    }\n",
              "\n",
              "    .colab-df-convert:hover {\n",
              "      background-color: #E2EBFA;\n",
              "      box-shadow: 0px 1px 2px rgba(60, 64, 67, 0.3), 0px 1px 3px 1px rgba(60, 64, 67, 0.15);\n",
              "      fill: #174EA6;\n",
              "    }\n",
              "\n",
              "    .colab-df-buttons div {\n",
              "      margin-bottom: 4px;\n",
              "    }\n",
              "\n",
              "    [theme=dark] .colab-df-convert {\n",
              "      background-color: #3B4455;\n",
              "      fill: #D2E3FC;\n",
              "    }\n",
              "\n",
              "    [theme=dark] .colab-df-convert:hover {\n",
              "      background-color: #434B5C;\n",
              "      box-shadow: 0px 1px 3px 1px rgba(0, 0, 0, 0.15);\n",
              "      filter: drop-shadow(0px 1px 2px rgba(0, 0, 0, 0.3));\n",
              "      fill: #FFFFFF;\n",
              "    }\n",
              "  </style>\n",
              "\n",
              "    <script>\n",
              "      const buttonEl =\n",
              "        document.querySelector('#df-75aebb83-2588-4e01-be73-07b2427dc1af button.colab-df-convert');\n",
              "      buttonEl.style.display =\n",
              "        google.colab.kernel.accessAllowed ? 'block' : 'none';\n",
              "\n",
              "      async function convertToInteractive(key) {\n",
              "        const element = document.querySelector('#df-75aebb83-2588-4e01-be73-07b2427dc1af');\n",
              "        const dataTable =\n",
              "          await google.colab.kernel.invokeFunction('convertToInteractive',\n",
              "                                                    [key], {});\n",
              "        if (!dataTable) return;\n",
              "\n",
              "        const docLinkHtml = 'Like what you see? Visit the ' +\n",
              "          '<a target=\"_blank\" href=https://colab.research.google.com/notebooks/data_table.ipynb>data table notebook</a>'\n",
              "          + ' to learn more about interactive tables.';\n",
              "        element.innerHTML = '';\n",
              "        dataTable['output_type'] = 'display_data';\n",
              "        await google.colab.output.renderOutput(dataTable, element);\n",
              "        const docLink = document.createElement('div');\n",
              "        docLink.innerHTML = docLinkHtml;\n",
              "        element.appendChild(docLink);\n",
              "      }\n",
              "    </script>\n",
              "  </div>\n",
              "\n",
              "\n",
              "    <div id=\"df-f6b2fd76-ec9b-496a-b234-f69a2950d34b\">\n",
              "      <button class=\"colab-df-quickchart\" onclick=\"quickchart('df-f6b2fd76-ec9b-496a-b234-f69a2950d34b')\"\n",
              "                title=\"Suggest charts\"\n",
              "                style=\"display:none;\">\n",
              "\n",
              "<svg xmlns=\"http://www.w3.org/2000/svg\" height=\"24px\"viewBox=\"0 0 24 24\"\n",
              "     width=\"24px\">\n",
              "    <g>\n",
              "        <path d=\"M19 3H5c-1.1 0-2 .9-2 2v14c0 1.1.9 2 2 2h14c1.1 0 2-.9 2-2V5c0-1.1-.9-2-2-2zM9 17H7v-7h2v7zm4 0h-2V7h2v10zm4 0h-2v-4h2v4z\"/>\n",
              "    </g>\n",
              "</svg>\n",
              "      </button>\n",
              "\n",
              "<style>\n",
              "  .colab-df-quickchart {\n",
              "      --bg-color: #E8F0FE;\n",
              "      --fill-color: #1967D2;\n",
              "      --hover-bg-color: #E2EBFA;\n",
              "      --hover-fill-color: #174EA6;\n",
              "      --disabled-fill-color: #AAA;\n",
              "      --disabled-bg-color: #DDD;\n",
              "  }\n",
              "\n",
              "  [theme=dark] .colab-df-quickchart {\n",
              "      --bg-color: #3B4455;\n",
              "      --fill-color: #D2E3FC;\n",
              "      --hover-bg-color: #434B5C;\n",
              "      --hover-fill-color: #FFFFFF;\n",
              "      --disabled-bg-color: #3B4455;\n",
              "      --disabled-fill-color: #666;\n",
              "  }\n",
              "\n",
              "  .colab-df-quickchart {\n",
              "    background-color: var(--bg-color);\n",
              "    border: none;\n",
              "    border-radius: 50%;\n",
              "    cursor: pointer;\n",
              "    display: none;\n",
              "    fill: var(--fill-color);\n",
              "    height: 32px;\n",
              "    padding: 0;\n",
              "    width: 32px;\n",
              "  }\n",
              "\n",
              "  .colab-df-quickchart:hover {\n",
              "    background-color: var(--hover-bg-color);\n",
              "    box-shadow: 0 1px 2px rgba(60, 64, 67, 0.3), 0 1px 3px 1px rgba(60, 64, 67, 0.15);\n",
              "    fill: var(--button-hover-fill-color);\n",
              "  }\n",
              "\n",
              "  .colab-df-quickchart-complete:disabled,\n",
              "  .colab-df-quickchart-complete:disabled:hover {\n",
              "    background-color: var(--disabled-bg-color);\n",
              "    fill: var(--disabled-fill-color);\n",
              "    box-shadow: none;\n",
              "  }\n",
              "\n",
              "  .colab-df-spinner {\n",
              "    border: 2px solid var(--fill-color);\n",
              "    border-color: transparent;\n",
              "    border-bottom-color: var(--fill-color);\n",
              "    animation:\n",
              "      spin 1s steps(1) infinite;\n",
              "  }\n",
              "\n",
              "  @keyframes spin {\n",
              "    0% {\n",
              "      border-color: transparent;\n",
              "      border-bottom-color: var(--fill-color);\n",
              "      border-left-color: var(--fill-color);\n",
              "    }\n",
              "    20% {\n",
              "      border-color: transparent;\n",
              "      border-left-color: var(--fill-color);\n",
              "      border-top-color: var(--fill-color);\n",
              "    }\n",
              "    30% {\n",
              "      border-color: transparent;\n",
              "      border-left-color: var(--fill-color);\n",
              "      border-top-color: var(--fill-color);\n",
              "      border-right-color: var(--fill-color);\n",
              "    }\n",
              "    40% {\n",
              "      border-color: transparent;\n",
              "      border-right-color: var(--fill-color);\n",
              "      border-top-color: var(--fill-color);\n",
              "    }\n",
              "    60% {\n",
              "      border-color: transparent;\n",
              "      border-right-color: var(--fill-color);\n",
              "    }\n",
              "    80% {\n",
              "      border-color: transparent;\n",
              "      border-right-color: var(--fill-color);\n",
              "      border-bottom-color: var(--fill-color);\n",
              "    }\n",
              "    90% {\n",
              "      border-color: transparent;\n",
              "      border-bottom-color: var(--fill-color);\n",
              "    }\n",
              "  }\n",
              "</style>\n",
              "\n",
              "      <script>\n",
              "        async function quickchart(key) {\n",
              "          const quickchartButtonEl =\n",
              "            document.querySelector('#' + key + ' button');\n",
              "          quickchartButtonEl.disabled = true;  // To prevent multiple clicks.\n",
              "          quickchartButtonEl.classList.add('colab-df-spinner');\n",
              "          try {\n",
              "            const charts = await google.colab.kernel.invokeFunction(\n",
              "                'suggestCharts', [key], {});\n",
              "          } catch (error) {\n",
              "            console.error('Error during call to suggestCharts:', error);\n",
              "          }\n",
              "          quickchartButtonEl.classList.remove('colab-df-spinner');\n",
              "          quickchartButtonEl.classList.add('colab-df-quickchart-complete');\n",
              "        }\n",
              "        (() => {\n",
              "          let quickchartButtonEl =\n",
              "            document.querySelector('#df-f6b2fd76-ec9b-496a-b234-f69a2950d34b button');\n",
              "          quickchartButtonEl.style.display =\n",
              "            google.colab.kernel.accessAllowed ? 'block' : 'none';\n",
              "        })();\n",
              "      </script>\n",
              "    </div>\n",
              "\n",
              "  <div id=\"id_7033f1b0-e7cd-44cf-8fed-6de8c253a9b2\">\n",
              "    <style>\n",
              "      .colab-df-generate {\n",
              "        background-color: #E8F0FE;\n",
              "        border: none;\n",
              "        border-radius: 50%;\n",
              "        cursor: pointer;\n",
              "        display: none;\n",
              "        fill: #1967D2;\n",
              "        height: 32px;\n",
              "        padding: 0 0 0 0;\n",
              "        width: 32px;\n",
              "      }\n",
              "\n",
              "      .colab-df-generate:hover {\n",
              "        background-color: #E2EBFA;\n",
              "        box-shadow: 0px 1px 2px rgba(60, 64, 67, 0.3), 0px 1px 3px 1px rgba(60, 64, 67, 0.15);\n",
              "        fill: #174EA6;\n",
              "      }\n",
              "\n",
              "      [theme=dark] .colab-df-generate {\n",
              "        background-color: #3B4455;\n",
              "        fill: #D2E3FC;\n",
              "      }\n",
              "\n",
              "      [theme=dark] .colab-df-generate:hover {\n",
              "        background-color: #434B5C;\n",
              "        box-shadow: 0px 1px 3px 1px rgba(0, 0, 0, 0.15);\n",
              "        filter: drop-shadow(0px 1px 2px rgba(0, 0, 0, 0.3));\n",
              "        fill: #FFFFFF;\n",
              "      }\n",
              "    </style>\n",
              "    <button class=\"colab-df-generate\" onclick=\"generateWithVariable('performance_comparison')\"\n",
              "            title=\"Generate code using this dataframe.\"\n",
              "            style=\"display:none;\">\n",
              "\n",
              "  <svg xmlns=\"http://www.w3.org/2000/svg\" height=\"24px\"viewBox=\"0 0 24 24\"\n",
              "       width=\"24px\">\n",
              "    <path d=\"M7,19H8.4L18.45,9,17,7.55,7,17.6ZM5,21V16.75L18.45,3.32a2,2,0,0,1,2.83,0l1.4,1.43a1.91,1.91,0,0,1,.58,1.4,1.91,1.91,0,0,1-.58,1.4L9.25,21ZM18.45,9,17,7.55Zm-12,3A5.31,5.31,0,0,0,4.9,8.1,5.31,5.31,0,0,0,1,6.5,5.31,5.31,0,0,0,4.9,4.9,5.31,5.31,0,0,0,6.5,1,5.31,5.31,0,0,0,8.1,4.9,5.31,5.31,0,0,0,12,6.5,5.46,5.46,0,0,0,6.5,12Z\"/>\n",
              "  </svg>\n",
              "    </button>\n",
              "    <script>\n",
              "      (() => {\n",
              "      const buttonEl =\n",
              "        document.querySelector('#id_7033f1b0-e7cd-44cf-8fed-6de8c253a9b2 button.colab-df-generate');\n",
              "      buttonEl.style.display =\n",
              "        google.colab.kernel.accessAllowed ? 'block' : 'none';\n",
              "\n",
              "      buttonEl.onclick = () => {\n",
              "        google.colab.notebook.generateWithVariable('performance_comparison');\n",
              "      }\n",
              "      })();\n",
              "    </script>\n",
              "  </div>\n",
              "\n",
              "    </div>\n",
              "  </div>\n"
            ],
            "application/vnd.google.colaboratory.intrinsic+json": {
              "type": "dataframe",
              "variable_name": "performance_comparison",
              "summary": "{\n  \"name\": \"performance_comparison\",\n  \"rows\": 3,\n  \"fields\": [\n    {\n      \"column\": \"model\",\n      \"properties\": {\n        \"dtype\": \"string\",\n        \"num_unique_values\": 3,\n        \"samples\": [\n          \"Baseline\",\n          \"GMM-Oversampled\",\n          \"Hybrid\"\n        ],\n        \"semantic_type\": \"\",\n        \"description\": \"\"\n      }\n    },\n    {\n      \"column\": \"precision\",\n      \"properties\": {\n        \"dtype\": \"number\",\n        \"std\": 0.43890014050274956,\n        \"min\": 0.06,\n        \"max\": 0.83,\n        \"num_unique_values\": 3,\n        \"samples\": [\n          0.83,\n          0.08,\n          0.06\n        ],\n        \"semantic_type\": \"\",\n        \"description\": \"\"\n      }\n    },\n    {\n      \"column\": \"recall\",\n      \"properties\": {\n        \"dtype\": \"number\",\n        \"std\": 0.15044378795195676,\n        \"min\": 0.64,\n        \"max\": 0.91,\n        \"num_unique_values\": 3,\n        \"samples\": [\n          0.64,\n          0.91,\n          0.89\n        ],\n        \"semantic_type\": \"\",\n        \"description\": \"\"\n      }\n    },\n    {\n      \"column\": \"f1-score\",\n      \"properties\": {\n        \"dtype\": \"number\",\n        \"std\": 0.34122328955294556,\n        \"min\": 0.11,\n        \"max\": 0.72,\n        \"num_unique_values\": 3,\n        \"samples\": [\n          0.72,\n          0.15,\n          0.11\n        ],\n        \"semantic_type\": \"\",\n        \"description\": \"\"\n      }\n    }\n  ]\n}"
            }
          },
          "metadata": {}
        }
      ]
    },
    {
      "cell_type": "code",
      "metadata": {
        "colab": {
          "base_uri": "https://localhost:8080/",
          "height": 564
        },
        "id": "5d3a3d38",
        "outputId": "fa71ae98-2d7b-49da-c173-212ed3ec98c3"
      },
      "source": [
        "import matplotlib.pyplot as plt\n",
        "import seaborn as sns\n",
        "\n",
        "# Melt the DataFrame to long format for easier plotting\n",
        "performance_melted = performance_comparison.melt(id_vars='model', var_name='metric', value_name='score')\n",
        "\n",
        "plt.figure(figsize=(12, 6))\n",
        "sns.barplot(x='metric', y='score', hue='model', data=performance_melted, palette='viridis')\n",
        "plt.title('Performance Comparison for Fraud Class (Precision, Recall, F1-score)')\n",
        "plt.ylabel('Score')\n",
        "plt.xlabel('Metric')\n",
        "plt.ylim(0, 1) # Set y-axis limit from 0 to 1 for scores\n",
        "plt.legend(title='Model')\n",
        "plt.grid(axis='y', linestyle='--')\n",
        "plt.show()"
      ],
      "execution_count": 68,
      "outputs": [
        {
          "output_type": "display_data",
          "data": {
            "text/plain": [
              "<Figure size 1200x600 with 1 Axes>"
            ],
            "image/png": "[encoded data removed]"
          },
          "metadata": {}
        }
      ]
    },
    {
      "cell_type": "markdown",
      "metadata": {
        "id": "66acb966"
      },
      "source": [
        "## Final Recommendation\n",
        "\n",
        "**Recommendation:**\n",
        "\n",
        "Using GMM for synthetic data generation significantly improves the recall for the minority class (fraudulent transactions) compared to the baseline model. This is crucial for minimizing false negatives in fraud detection.\n",
        "\n",
        "**Justification:**\n",
        "\n",
        "1.  **Improved Recall:** Both GMM-oversampled (0.91 recall) and hybrid (0.89 recall) models show substantially higher recall than the baseline (0.64).\n",
        "2.  **Theoretical Advantage of GMM:** GMM's ability to model complex, multi-modal distributions allows it to generate more realistic synthetic samples, improving the model's ability to identify the minority class.\n",
        "3.  **Trade-off with Precision:** While recall improves, precision for the 'Fraud' class is lower in GMM-based models. This trade-off is often acceptable in fraud detection where false negatives are more costly than false positives.\n",
        "4.  **Hybrid Approach:** The hybrid approach (CBU + GMM) shows a slightly lower recall and precision than pure GMM oversampling in this case, but can be beneficial in other scenarios.\n",
        "\n",
        "In summary, GMM is an effective strategy for addressing class imbalance in this fraud detection problem, leading to better detection of fraudulent transactions due to improved recall, supported by its theoretical ability to model complex distributions."
      ]
    }
  ]
}